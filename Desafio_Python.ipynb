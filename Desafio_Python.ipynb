{
 "cells": [
  {
   "cell_type": "code",
   "execution_count": 1,
   "id": "98c8a022",
   "metadata": {},
   "outputs": [],
   "source": [
    "import pandas as pd"
   ]
  },
  {
   "cell_type": "code",
   "execution_count": 2,
   "id": "a6910959",
   "metadata": {},
   "outputs": [],
   "source": [
    "#abrindo o arquivo e separando as colunas \n",
    "df = pd.read_csv('DB_teste.csv', delimiter=';', encoding='UTF-8') "
   ]
  },
  {
   "cell_type": "code",
   "execution_count": 3,
   "id": "e317babf",
   "metadata": {},
   "outputs": [
    {
     "data": {
      "text/html": [
       "<div>\n",
       "<style scoped>\n",
       "    .dataframe tbody tr th:only-of-type {\n",
       "        vertical-align: middle;\n",
       "    }\n",
       "\n",
       "    .dataframe tbody tr th {\n",
       "        vertical-align: top;\n",
       "    }\n",
       "\n",
       "    .dataframe thead th {\n",
       "        text-align: right;\n",
       "    }\n",
       "</style>\n",
       "<table border=\"1\" class=\"dataframe\">\n",
       "  <thead>\n",
       "    <tr style=\"text-align: right;\">\n",
       "      <th></th>\n",
       "      <th>Cliente</th>\n",
       "      <th>ID</th>\n",
       "      <th>Tipo</th>\n",
       "      <th>Data da Venda</th>\n",
       "      <th>Categoria</th>\n",
       "      <th>Vendedor</th>\n",
       "      <th>Regional</th>\n",
       "      <th>Duração do Contrato (Meses)</th>\n",
       "      <th>Equipe</th>\n",
       "      <th>Valor</th>\n",
       "    </tr>\n",
       "  </thead>\n",
       "  <tbody>\n",
       "    <tr>\n",
       "      <th>0</th>\n",
       "      <td>Cliente 1</td>\n",
       "      <td>2017-0022</td>\n",
       "      <td>Serviços</td>\n",
       "      <td>02/01/2018</td>\n",
       "      <td>Novo Logo</td>\n",
       "      <td>Vendedor 1</td>\n",
       "      <td>Brasil</td>\n",
       "      <td>1</td>\n",
       "      <td>Time 1</td>\n",
       "      <td>R$ 24.800,00</td>\n",
       "    </tr>\n",
       "    <tr>\n",
       "      <th>1</th>\n",
       "      <td>Cliente 10</td>\n",
       "      <td>2018-0088</td>\n",
       "      <td>Serviços</td>\n",
       "      <td>14/02/2018</td>\n",
       "      <td>Novo Logo</td>\n",
       "      <td>Vendedor 1</td>\n",
       "      <td>Brasil</td>\n",
       "      <td>6</td>\n",
       "      <td>Time 1</td>\n",
       "      <td>R$ 302.720,00</td>\n",
       "    </tr>\n",
       "    <tr>\n",
       "      <th>2</th>\n",
       "      <td>Cliente 10</td>\n",
       "      <td>2018-0104</td>\n",
       "      <td>Serviços</td>\n",
       "      <td>13/03/2018</td>\n",
       "      <td>Upselling</td>\n",
       "      <td>Vendedor 1</td>\n",
       "      <td>Brasil</td>\n",
       "      <td>1</td>\n",
       "      <td>Time 1</td>\n",
       "      <td>R$ 51.894,86</td>\n",
       "    </tr>\n",
       "    <tr>\n",
       "      <th>3</th>\n",
       "      <td>Cliente 10</td>\n",
       "      <td>2018-0168</td>\n",
       "      <td>Serviços</td>\n",
       "      <td>30/04/2018</td>\n",
       "      <td>Upselling</td>\n",
       "      <td>Vendedor 1</td>\n",
       "      <td>Brasil</td>\n",
       "      <td>2</td>\n",
       "      <td>Time 1</td>\n",
       "      <td>R$ 51.894,86</td>\n",
       "    </tr>\n",
       "    <tr>\n",
       "      <th>4</th>\n",
       "      <td>Cliente 10</td>\n",
       "      <td>2018-0169</td>\n",
       "      <td>Serviços</td>\n",
       "      <td>30/04/2018</td>\n",
       "      <td>Upselling</td>\n",
       "      <td>Vendedor 1</td>\n",
       "      <td>Brasil</td>\n",
       "      <td>2</td>\n",
       "      <td>Time 1</td>\n",
       "      <td>R$ 51.894,86</td>\n",
       "    </tr>\n",
       "  </tbody>\n",
       "</table>\n",
       "</div>"
      ],
      "text/plain": [
       "      Cliente         ID      Tipo Data da Venda  Categoria    Vendedor  \\\n",
       "0   Cliente 1  2017-0022  Serviços    02/01/2018  Novo Logo  Vendedor 1   \n",
       "1  Cliente 10  2018-0088  Serviços    14/02/2018  Novo Logo  Vendedor 1   \n",
       "2  Cliente 10  2018-0104  Serviços    13/03/2018  Upselling  Vendedor 1   \n",
       "3  Cliente 10  2018-0168  Serviços    30/04/2018  Upselling  Vendedor 1   \n",
       "4  Cliente 10  2018-0169  Serviços    30/04/2018  Upselling  Vendedor 1   \n",
       "\n",
       "  Regional  Duração do Contrato (Meses)  Equipe          Valor  \n",
       "0   Brasil                            1  Time 1   R$ 24.800,00  \n",
       "1   Brasil                            6  Time 1  R$ 302.720,00  \n",
       "2   Brasil                            1  Time 1   R$ 51.894,86  \n",
       "3   Brasil                            2  Time 1   R$ 51.894,86  \n",
       "4   Brasil                            2  Time 1   R$ 51.894,86  "
      ]
     },
     "execution_count": 3,
     "metadata": {},
     "output_type": "execute_result"
    }
   ],
   "source": [
    "df.head()"
   ]
  },
  {
   "cell_type": "code",
   "execution_count": 4,
   "id": "3a76ea1d",
   "metadata": {},
   "outputs": [
    {
     "data": {
      "text/html": [
       "<div>\n",
       "<style scoped>\n",
       "    .dataframe tbody tr th:only-of-type {\n",
       "        vertical-align: middle;\n",
       "    }\n",
       "\n",
       "    .dataframe tbody tr th {\n",
       "        vertical-align: top;\n",
       "    }\n",
       "\n",
       "    .dataframe thead th {\n",
       "        text-align: right;\n",
       "    }\n",
       "</style>\n",
       "<table border=\"1\" class=\"dataframe\">\n",
       "  <thead>\n",
       "    <tr style=\"text-align: right;\">\n",
       "      <th></th>\n",
       "      <th>Cliente</th>\n",
       "      <th>ID</th>\n",
       "      <th>Tipo</th>\n",
       "      <th>Data da Venda</th>\n",
       "      <th>Categoria</th>\n",
       "      <th>Vendedor</th>\n",
       "      <th>Regional</th>\n",
       "      <th>Duração do Contrato (Meses)</th>\n",
       "      <th>Equipe</th>\n",
       "      <th>Valor</th>\n",
       "      <th>Valor_Formatado</th>\n",
       "    </tr>\n",
       "  </thead>\n",
       "  <tbody>\n",
       "    <tr>\n",
       "      <th>0</th>\n",
       "      <td>Cliente 1</td>\n",
       "      <td>2017-0022</td>\n",
       "      <td>Serviços</td>\n",
       "      <td>02/01/2018</td>\n",
       "      <td>Novo Logo</td>\n",
       "      <td>Vendedor 1</td>\n",
       "      <td>Brasil</td>\n",
       "      <td>1</td>\n",
       "      <td>Time 1</td>\n",
       "      <td>R$ 24.800,00</td>\n",
       "      <td>24.800,00</td>\n",
       "    </tr>\n",
       "    <tr>\n",
       "      <th>1</th>\n",
       "      <td>Cliente 10</td>\n",
       "      <td>2018-0088</td>\n",
       "      <td>Serviços</td>\n",
       "      <td>14/02/2018</td>\n",
       "      <td>Novo Logo</td>\n",
       "      <td>Vendedor 1</td>\n",
       "      <td>Brasil</td>\n",
       "      <td>6</td>\n",
       "      <td>Time 1</td>\n",
       "      <td>R$ 302.720,00</td>\n",
       "      <td>302.720,00</td>\n",
       "    </tr>\n",
       "    <tr>\n",
       "      <th>2</th>\n",
       "      <td>Cliente 10</td>\n",
       "      <td>2018-0104</td>\n",
       "      <td>Serviços</td>\n",
       "      <td>13/03/2018</td>\n",
       "      <td>Upselling</td>\n",
       "      <td>Vendedor 1</td>\n",
       "      <td>Brasil</td>\n",
       "      <td>1</td>\n",
       "      <td>Time 1</td>\n",
       "      <td>R$ 51.894,86</td>\n",
       "      <td>51.894,86</td>\n",
       "    </tr>\n",
       "    <tr>\n",
       "      <th>3</th>\n",
       "      <td>Cliente 10</td>\n",
       "      <td>2018-0168</td>\n",
       "      <td>Serviços</td>\n",
       "      <td>30/04/2018</td>\n",
       "      <td>Upselling</td>\n",
       "      <td>Vendedor 1</td>\n",
       "      <td>Brasil</td>\n",
       "      <td>2</td>\n",
       "      <td>Time 1</td>\n",
       "      <td>R$ 51.894,86</td>\n",
       "      <td>51.894,86</td>\n",
       "    </tr>\n",
       "    <tr>\n",
       "      <th>4</th>\n",
       "      <td>Cliente 10</td>\n",
       "      <td>2018-0169</td>\n",
       "      <td>Serviços</td>\n",
       "      <td>30/04/2018</td>\n",
       "      <td>Upselling</td>\n",
       "      <td>Vendedor 1</td>\n",
       "      <td>Brasil</td>\n",
       "      <td>2</td>\n",
       "      <td>Time 1</td>\n",
       "      <td>R$ 51.894,86</td>\n",
       "      <td>51.894,86</td>\n",
       "    </tr>\n",
       "  </tbody>\n",
       "</table>\n",
       "</div>"
      ],
      "text/plain": [
       "      Cliente         ID      Tipo Data da Venda  Categoria    Vendedor  \\\n",
       "0   Cliente 1  2017-0022  Serviços    02/01/2018  Novo Logo  Vendedor 1   \n",
       "1  Cliente 10  2018-0088  Serviços    14/02/2018  Novo Logo  Vendedor 1   \n",
       "2  Cliente 10  2018-0104  Serviços    13/03/2018  Upselling  Vendedor 1   \n",
       "3  Cliente 10  2018-0168  Serviços    30/04/2018  Upselling  Vendedor 1   \n",
       "4  Cliente 10  2018-0169  Serviços    30/04/2018  Upselling  Vendedor 1   \n",
       "\n",
       "  Regional  Duração do Contrato (Meses)  Equipe          Valor Valor_Formatado  \n",
       "0   Brasil                            1  Time 1   R$ 24.800,00       24.800,00  \n",
       "1   Brasil                            6  Time 1  R$ 302.720,00      302.720,00  \n",
       "2   Brasil                            1  Time 1   R$ 51.894,86       51.894,86  \n",
       "3   Brasil                            2  Time 1   R$ 51.894,86       51.894,86  \n",
       "4   Brasil                            2  Time 1   R$ 51.894,86       51.894,86  "
      ]
     },
     "execution_count": 4,
     "metadata": {},
     "output_type": "execute_result"
    }
   ],
   "source": [
    "#Construa uma tabela auxiliar que sumarize o valor vendido por cada vendedor, ordenando do maior para o menor;\n",
    "df['Valor_Formatado'] = df['Valor'].str.split(' ', expand=True)[1]\n",
    "df.head()"
   ]
  },
  {
   "cell_type": "code",
   "execution_count": 5,
   "id": "6f04c83c",
   "metadata": {},
   "outputs": [
    {
     "data": {
      "text/html": [
       "<div>\n",
       "<style scoped>\n",
       "    .dataframe tbody tr th:only-of-type {\n",
       "        vertical-align: middle;\n",
       "    }\n",
       "\n",
       "    .dataframe tbody tr th {\n",
       "        vertical-align: top;\n",
       "    }\n",
       "\n",
       "    .dataframe thead th {\n",
       "        text-align: right;\n",
       "    }\n",
       "</style>\n",
       "<table border=\"1\" class=\"dataframe\">\n",
       "  <thead>\n",
       "    <tr style=\"text-align: right;\">\n",
       "      <th></th>\n",
       "      <th>Cliente</th>\n",
       "      <th>ID</th>\n",
       "      <th>Tipo</th>\n",
       "      <th>Data da Venda</th>\n",
       "      <th>Categoria</th>\n",
       "      <th>Vendedor</th>\n",
       "      <th>Regional</th>\n",
       "      <th>Duração do Contrato (Meses)</th>\n",
       "      <th>Equipe</th>\n",
       "      <th>Valor</th>\n",
       "      <th>Valor_Formatado</th>\n",
       "    </tr>\n",
       "  </thead>\n",
       "  <tbody>\n",
       "    <tr>\n",
       "      <th>0</th>\n",
       "      <td>Cliente 1</td>\n",
       "      <td>2017-0022</td>\n",
       "      <td>Serviços</td>\n",
       "      <td>02/01/2018</td>\n",
       "      <td>Novo Logo</td>\n",
       "      <td>Vendedor 1</td>\n",
       "      <td>Brasil</td>\n",
       "      <td>1</td>\n",
       "      <td>Time 1</td>\n",
       "      <td>R$ 24.800,00</td>\n",
       "      <td>24800.00</td>\n",
       "    </tr>\n",
       "    <tr>\n",
       "      <th>1</th>\n",
       "      <td>Cliente 10</td>\n",
       "      <td>2018-0088</td>\n",
       "      <td>Serviços</td>\n",
       "      <td>14/02/2018</td>\n",
       "      <td>Novo Logo</td>\n",
       "      <td>Vendedor 1</td>\n",
       "      <td>Brasil</td>\n",
       "      <td>6</td>\n",
       "      <td>Time 1</td>\n",
       "      <td>R$ 302.720,00</td>\n",
       "      <td>302720.00</td>\n",
       "    </tr>\n",
       "    <tr>\n",
       "      <th>2</th>\n",
       "      <td>Cliente 10</td>\n",
       "      <td>2018-0104</td>\n",
       "      <td>Serviços</td>\n",
       "      <td>13/03/2018</td>\n",
       "      <td>Upselling</td>\n",
       "      <td>Vendedor 1</td>\n",
       "      <td>Brasil</td>\n",
       "      <td>1</td>\n",
       "      <td>Time 1</td>\n",
       "      <td>R$ 51.894,86</td>\n",
       "      <td>51894.86</td>\n",
       "    </tr>\n",
       "    <tr>\n",
       "      <th>3</th>\n",
       "      <td>Cliente 10</td>\n",
       "      <td>2018-0168</td>\n",
       "      <td>Serviços</td>\n",
       "      <td>30/04/2018</td>\n",
       "      <td>Upselling</td>\n",
       "      <td>Vendedor 1</td>\n",
       "      <td>Brasil</td>\n",
       "      <td>2</td>\n",
       "      <td>Time 1</td>\n",
       "      <td>R$ 51.894,86</td>\n",
       "      <td>51894.86</td>\n",
       "    </tr>\n",
       "    <tr>\n",
       "      <th>4</th>\n",
       "      <td>Cliente 10</td>\n",
       "      <td>2018-0169</td>\n",
       "      <td>Serviços</td>\n",
       "      <td>30/04/2018</td>\n",
       "      <td>Upselling</td>\n",
       "      <td>Vendedor 1</td>\n",
       "      <td>Brasil</td>\n",
       "      <td>2</td>\n",
       "      <td>Time 1</td>\n",
       "      <td>R$ 51.894,86</td>\n",
       "      <td>51894.86</td>\n",
       "    </tr>\n",
       "  </tbody>\n",
       "</table>\n",
       "</div>"
      ],
      "text/plain": [
       "      Cliente         ID      Tipo Data da Venda  Categoria    Vendedor  \\\n",
       "0   Cliente 1  2017-0022  Serviços    02/01/2018  Novo Logo  Vendedor 1   \n",
       "1  Cliente 10  2018-0088  Serviços    14/02/2018  Novo Logo  Vendedor 1   \n",
       "2  Cliente 10  2018-0104  Serviços    13/03/2018  Upselling  Vendedor 1   \n",
       "3  Cliente 10  2018-0168  Serviços    30/04/2018  Upselling  Vendedor 1   \n",
       "4  Cliente 10  2018-0169  Serviços    30/04/2018  Upselling  Vendedor 1   \n",
       "\n",
       "  Regional  Duração do Contrato (Meses)  Equipe          Valor Valor_Formatado  \n",
       "0   Brasil                            1  Time 1   R$ 24.800,00        24800.00  \n",
       "1   Brasil                            6  Time 1  R$ 302.720,00       302720.00  \n",
       "2   Brasil                            1  Time 1   R$ 51.894,86        51894.86  \n",
       "3   Brasil                            2  Time 1   R$ 51.894,86        51894.86  \n",
       "4   Brasil                            2  Time 1   R$ 51.894,86        51894.86  "
      ]
     },
     "execution_count": 5,
     "metadata": {},
     "output_type": "execute_result"
    }
   ],
   "source": [
    "df['Valor_Formatado'] = df.Valor_Formatado.str.replace('.', '', regex=False)\n",
    "df['Valor_Formatado'] = df.Valor_Formatado.str.replace(',', '.', regex=False)\n",
    "df.head()"
   ]
  },
  {
   "cell_type": "code",
   "execution_count": 6,
   "id": "540cd12e",
   "metadata": {},
   "outputs": [],
   "source": [
    "#convertendo str em float\n",
    "df['Valor_Formatado'] = df['Valor_Formatado'].astype(float)"
   ]
  },
  {
   "cell_type": "code",
   "execution_count": 7,
   "id": "f9f4d02a",
   "metadata": {},
   "outputs": [],
   "source": [
    "#agrupando os dados \n",
    "df2 = df.copy()\n",
    "df2 = df2.groupby(['Vendedor'])['Valor_Formatado'].sum().reset_index()\n",
    "df2 = df2.sort_values(by='Valor_Formatado', ascending=False)"
   ]
  },
  {
   "cell_type": "code",
   "execution_count": 8,
   "id": "3597b3c7",
   "metadata": {},
   "outputs": [
    {
     "name": "stdout",
     "output_type": "stream",
     "text": [
      "       Vendedor  Valor_Formatado\n",
      "22   Vendedor 3     1.662205e+08\n",
      "27   Vendedor 7     5.779918e+07\n",
      "1   Vendedor 10     5.221206e+07\n",
      "28   Vendedor 8     4.727451e+07\n",
      "0    Vendedor 1     3.092948e+07\n",
      "29   Vendedor 9     2.637456e+07\n",
      "4   Vendedor 13     2.483730e+07\n",
      "9   Vendedor 18     2.266230e+07\n",
      "21  Vendedor 29     1.907687e+07\n",
      "24   Vendedor 4     1.734682e+07\n",
      "5   Vendedor 14     7.558042e+06\n",
      "12  Vendedor 20     7.520907e+06\n",
      "10  Vendedor 19     6.513184e+06\n",
      "11   Vendedor 2     5.673761e+06\n",
      "7   Vendedor 16     4.879238e+06\n",
      "26   Vendedor 6     3.548887e+06\n",
      "20  Vendedor 28     3.307138e+06\n",
      "3   Vendedor 12     3.019669e+06\n",
      "14  Vendedor 22     2.150000e+06\n",
      "13  Vendedor 21     1.943240e+06\n",
      "15  Vendedor 23     1.941880e+06\n",
      "2   Vendedor 11     1.221787e+06\n",
      "8   Vendedor 17     1.133803e+06\n",
      "25   Vendedor 5     9.139000e+05\n",
      "16  Vendedor 24     5.839700e+05\n",
      "23  Vendedor 30     5.154468e+05\n",
      "19  Vendedor 27     4.200000e+05\n",
      "18  Vendedor 26     3.840000e+05\n",
      "6   Vendedor 15     8.650461e+04\n",
      "17  Vendedor 25     4.053200e+04\n"
     ]
    }
   ],
   "source": [
    "#tabela: valor vendido por cada vendedor - ordenado do maior para o menor valor\n",
    "print(df2)"
   ]
  },
  {
   "cell_type": "code",
   "execution_count": 9,
   "id": "b05fdfdf",
   "metadata": {
    "scrolled": true
   },
   "outputs": [],
   "source": [
    "#Imprima e identifique qual foi o cliente responsável pela venda com maior valor e com menor valor;\n",
    "df3 = df.copy()\n",
    "df3.drop([\"ID\",\"Tipo\", \"Data da Venda\", \"Categoria\", \"Vendedor\", \"Regional\", \"Duração do Contrato (Meses)\", \"Equipe\", \"Valor\"], axis=1, inplace=True)"
   ]
  },
  {
   "cell_type": "code",
   "execution_count": 10,
   "id": "4c4dc056",
   "metadata": {
    "scrolled": false
   },
   "outputs": [
    {
     "name": "stdout",
     "output_type": "stream",
     "text": [
      "        Cliente  Valor_Formatado\n",
      "0     Cliente 1         24800.00\n",
      "1    Cliente 10        302720.00\n",
      "2    Cliente 10         51894.86\n",
      "3    Cliente 10         51894.86\n",
      "4    Cliente 10         51894.86\n",
      "..          ...              ...\n",
      "848  Cliente 96        273000.00\n",
      "849  Cliente 96        120964.32\n",
      "850  Cliente 97        281880.00\n",
      "851  Cliente 98        720000.00\n",
      "852  Cliente 99        296498.85\n",
      "\n",
      "[853 rows x 2 columns]\n"
     ]
    }
   ],
   "source": [
    "#Tabela Cliente x Valor_Formatado\n",
    "print(df3)"
   ]
  },
  {
   "cell_type": "code",
   "execution_count": 11,
   "id": "e965a4e0",
   "metadata": {},
   "outputs": [
    {
     "name": "stdout",
     "output_type": "stream",
     "text": [
      "Cliente responsável pela venda com maior valor: \n",
      "        Cliente  Valor_Formatado\n",
      "810  Cliente 89       24970500.0\n"
     ]
    }
   ],
   "source": [
    "#Valor máximo\n",
    "print(\"Cliente responsável pela venda com maior valor: \")\n",
    "print(df3[df.Valor_Formatado == df.Valor_Formatado.max()])"
   ]
  },
  {
   "cell_type": "code",
   "execution_count": 12,
   "id": "adc375f0",
   "metadata": {},
   "outputs": [
    {
     "name": "stdout",
     "output_type": "stream",
     "text": [
      "Cliente responsável pela venda com menor valor: \n",
      "        Cliente  Valor_Formatado\n",
      "86  Cliente 120           1250.0\n"
     ]
    }
   ],
   "source": [
    "#Valor mínimo\n",
    "print(\"Cliente responsável pela venda com menor valor: \")\n",
    "print(df3[df.Valor_Formatado == df.Valor_Formatado.min()])"
   ]
  },
  {
   "cell_type": "code",
   "execution_count": 13,
   "id": "11e59ba0",
   "metadata": {},
   "outputs": [
    {
     "name": "stdout",
     "output_type": "stream",
     "text": [
      "              Tipo  Valor_Formatado\n",
      "0         Serviços         24800.00\n",
      "1         Serviços        302720.00\n",
      "2         Serviços         51894.86\n",
      "3         Serviços         51894.86\n",
      "4         Serviços         51894.86\n",
      "..             ...              ...\n",
      "848       Serviços        273000.00\n",
      "849       Produtos        120964.32\n",
      "850       Produtos        281880.00\n",
      "851       Produtos        720000.00\n",
      "852  Licenciamento        296498.85\n",
      "\n",
      "[853 rows x 2 columns]\n"
     ]
    }
   ],
   "source": [
    "#Imprima valor médio por Tipo de venda (Serviços, Licenciamento, Produtos)\n",
    "df4 = df.copy()\n",
    "df4.drop([\"Cliente\",\"ID\", \"Data da Venda\", \"Categoria\", \"Vendedor\", \"Regional\", \"Duração do Contrato (Meses)\", \"Equipe\", \"Valor\"], axis=1, inplace=True)\n",
    "print(df4)"
   ]
  },
  {
   "cell_type": "code",
   "execution_count": 14,
   "id": "8e6701ca",
   "metadata": {},
   "outputs": [],
   "source": [
    "df5 = df4.copy()\n",
    "df5 = df5.groupby(['Tipo'])['Valor_Formatado'].mean().reset_index()"
   ]
  },
  {
   "cell_type": "code",
   "execution_count": 15,
   "id": "390de456",
   "metadata": {},
   "outputs": [
    {
     "name": "stdout",
     "output_type": "stream",
     "text": [
      "            Tipo  Valor_Formatado\n",
      "0  Licenciamento    983448.768963\n",
      "1       Produtos    893409.190065\n",
      "2       Serviços    314567.937298\n"
     ]
    }
   ],
   "source": [
    "print(df5)"
   ]
  },
  {
   "cell_type": "code",
   "execution_count": 16,
   "id": "89ce1953",
   "metadata": {},
   "outputs": [
    {
     "name": "stdout",
     "output_type": "stream",
     "text": [
      "        Cliente\n",
      "0     Cliente 1\n",
      "1    Cliente 10\n",
      "2    Cliente 10\n",
      "3    Cliente 10\n",
      "4    Cliente 10\n",
      "..          ...\n",
      "848  Cliente 96\n",
      "849  Cliente 96\n",
      "850  Cliente 97\n",
      "851  Cliente 98\n",
      "852  Cliente 99\n",
      "\n",
      "[853 rows x 1 columns]\n"
     ]
    }
   ],
   "source": [
    "#Imprima o número de vendas realizada por cliente\n",
    "df6 = df.copy()\n",
    "df6.drop([\"ID\",\"Tipo\", \"Data da Venda\", \"Categoria\", \"Vendedor\", \"Regional\", \"Duração do Contrato (Meses)\", \"Equipe\", \"Valor\",\"Valor_Formatado\"], axis=1, inplace=True)\n",
    "print(df6)"
   ]
  },
  {
   "cell_type": "code",
   "execution_count": 17,
   "id": "1ab8c166",
   "metadata": {},
   "outputs": [
    {
     "name": "stdout",
     "output_type": "stream",
     "text": [
      "Cliente x número de vendas\n",
      "Cliente\n",
      "Cliente 1       1\n",
      "Cliente 10     43\n",
      "Cliente 100     1\n",
      "Cliente 101     2\n",
      "Cliente 102     1\n",
      "               ..\n",
      "Cliente 95      1\n",
      "Cliente 96      4\n",
      "Cliente 97      1\n",
      "Cliente 98      1\n",
      "Cliente 99      1\n",
      "Length: 157, dtype: int64\n"
     ]
    }
   ],
   "source": [
    "#contagem em cada grupo\n",
    "print(\"Cliente x número de vendas\")\n",
    "print(df6.groupby('Cliente').value_counts())\n"
   ]
  }
 ],
 "metadata": {
  "kernelspec": {
   "display_name": "Python 3 (ipykernel)",
   "language": "python",
   "name": "python3"
  },
  "language_info": {
   "codemirror_mode": {
    "name": "ipython",
    "version": 3
   },
   "file_extension": ".py",
   "mimetype": "text/x-python",
   "name": "python",
   "nbconvert_exporter": "python",
   "pygments_lexer": "ipython3",
   "version": "3.9.12"
  }
 },
 "nbformat": 4,
 "nbformat_minor": 5
}
